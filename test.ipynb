{
 "cells": [
  {
   "cell_type": "code",
   "execution_count": 1,
   "metadata": {},
   "outputs": [
    {
     "name": "stdout",
     "output_type": "stream",
     "text": [
      "Database connection closed.\n",
      "Email sent successfully!\n"
     ]
    },
    {
     "data": {
      "text/plain": [
       "(True, 'Email sent successfully!')"
      ]
     },
     "execution_count": 1,
     "metadata": {},
     "output_type": "execute_result"
    }
   ],
   "source": [
    "\n",
    "\n",
    "from src.misc.helpers.helper_utils import send_mail_async\n",
    "\n",
    "\n",
    "await send_mail_async('pandeyabhishek234@gmail.com', 'Test email', 'Message body test')"
   ]
  },
  {
   "cell_type": "code",
   "execution_count": 8,
   "metadata": {},
   "outputs": [
    {
     "name": "stdout",
     "output_type": "stream",
     "text": [
      "0\n"
     ]
    }
   ],
   "source": [
    "def Intersection(lst1, lst2):\n",
    "    return set(lst1).intersection(lst2)\n",
    "     \n",
    "\n",
    "lst2 = [ 9, 9, 74, 21, 45, 11, 63]\n",
    "rights = \"1\"\n",
    "rights = [int(right) for right in rights.split(',')]\n",
    "print(len(Intersection(lst2, rights)))"
   ]
  },
  {
   "cell_type": "code",
   "execution_count": 1,
   "metadata": {},
   "outputs": [
    {
     "name": "stdout",
     "output_type": "stream",
     "text": [
      "{\"status\":false,\"message\":\"Invalid signature!\",\"data\":{}}\n",
      "1001 0.1001\n"
     ]
    }
   ],
   "source": [
    "\n",
    "from datetime import datetime\n",
    "import os\n",
    "import random\n",
    "\n",
    "import requests\n",
    "\n",
    "amount = round(random.uniform(4, 8), 6)\n",
    "admin_amount = amount*0.06\n",
    "x = requests.get(f'https://apis.pandeyabhishek.in/Python/Fund/WithdrawTest?address=0xda84E729376f8E7551eC84F779e719175C98511B&amountWithdrawn={amount}&adminAmount={admin_amount}&key=2c24b0e509a8fb7536714589aba27bb3a81eeaa22a5a01336f9180c4')\n",
    "print(x.text)\n",
    "print(amount, admin_amount)"
   ]
  },
  {
   "cell_type": "code",
   "execution_count": 4,
   "metadata": {},
   "outputs": [
    {
     "data": {
      "text/plain": [
       "6.123244157220252"
      ]
     },
     "execution_count": 4,
     "metadata": {},
     "output_type": "execute_result"
    }
   ],
   "source": [
    "import random\n",
    "\n",
    "\n",
    "random.uniform(2, 10)"
   ]
  },
  {
   "cell_type": "code",
   "execution_count": 149,
   "metadata": {},
   "outputs": [
    {
     "name": "stdout",
     "output_type": "stream",
     "text": [
      "31.36 %\n"
     ]
    }
   ],
   "source": [
    "import random\n",
    "def randomize_array(arr):\n",
    "    randomized_arr = arr.copy()\n",
    "    random.shuffle(randomized_arr)\n",
    "    return randomized_arr\n",
    "\n",
    "Success_percentages = []\n",
    "Loop_count_for_average = 100\n",
    "\n",
    "for y in range(0, Loop_count_for_average):\n",
    "    No_of_times_succeeded = 0\n",
    "    Loop_count = 100\n",
    "\n",
    "    for x in range(0, Loop_count):\n",
    "        NO_OF_PRISONERS = 100\n",
    "        CHANCE = int(NO_OF_PRISONERS/2)\n",
    "        prisoners = [i for i in range(1, NO_OF_PRISONERS+1)]\n",
    "        # print(prisoners)\n",
    "\n",
    "        randomized_prisoner_ids = randomize_array(prisoners)\n",
    "        # print(randomized_prisoner_ids)\n",
    "\n",
    "        prisoners_succeeded = []\n",
    "        for prisoner in prisoners:\n",
    "            found_id = randomized_prisoner_ids[prisoner-1]\n",
    "            for i in range(1, CHANCE+1):\n",
    "                if(found_id == prisoner):\n",
    "                    prisoners_succeeded.append(prisoner)\n",
    "                    break\n",
    "                else:\n",
    "                    found_id = randomized_prisoner_ids[found_id-1]\n",
    "                    \n",
    "        if(len(prisoners_succeeded)==NO_OF_PRISONERS):\n",
    "            No_of_times_succeeded += 1\n",
    "        \n",
    "        # print(x)\n",
    "    # print(No_of_times_succeeded)\n",
    "    Success_percentages.append((No_of_times_succeeded*100/Loop_count))\n",
    "    \n",
    "print(sum(Success_percentages)/len(Success_percentages), '%')\n",
    "# Success_percentages\n"
   ]
  },
  {
   "cell_type": "code",
   "execution_count": 1,
   "metadata": {
    "ExecuteTime": {
     "end_time": "2023-08-27T01:29:28.550064100Z",
     "start_time": "2023-08-27T01:29:26.683077700Z"
    },
    "collapsed": false
   },
   "outputs": [
    {
     "name": "stdout",
     "output_type": "stream",
     "text": [
      "2022-10-31 23:26:37.495000\n"
     ]
    }
   ],
   "source": [
    "import datetime\n",
    "\n",
    "timestamp_ms = 1667238997495\n",
    "timestamp_s = timestamp_ms / 1000  # Convert to seconds\n",
    "\n",
    "# Convert Unix timestamp to datetime\n",
    "dt = datetime.datetime.fromtimestamp(timestamp_s)\n",
    "\n",
    "print(dt)\n"
   ]
  },
  {
   "cell_type": "code",
   "execution_count": 8,
   "metadata": {
    "collapsed": false
   },
   "outputs": [],
   "source": [
    "import pdfkit\n",
    "import requests"
   ]
  },
  {
   "cell_type": "code",
   "execution_count": 15,
   "metadata": {},
   "outputs": [
    {
     "data": {
      "text/plain": [
       "True"
      ]
     },
     "execution_count": 15,
     "metadata": {},
     "output_type": "execute_result"
    }
   ],
   "source": [
    "\n",
    "x = requests.get('http://localhost:8000/topup/get_topup_receipt?pin_number=675881')\n",
    "# print(x.json())\n",
    "pdfkit.from_string(x.json(), 'out.pdf')"
   ]
  },
  {
   "cell_type": "code",
   "execution_count": 2,
   "metadata": {},
   "outputs": [
    {
     "name": "stdout",
     "output_type": "stream",
     "text": [
      "Main program continues\n"
     ]
    },
    {
     "name": "stdout",
     "output_type": "stream",
     "text": [
      "Coroutine is complete\n"
     ]
    }
   ],
   "source": [
    "import asyncio\n",
    "\n",
    "async def my_coroutine():\n",
    "    await asyncio.sleep(3)\n",
    "    print(\"Coroutine is complete\")\n",
    "\n",
    "def test(doAwait: bool):\n",
    "# Create and run the coroutine as a background task\n",
    "    task = asyncio.create_task(my_coroutine())\n",
    "    \n",
    "#     if(doAwait):\n",
    "# # At some point, you can await the task if needed\n",
    "#         await task\n",
    "\n",
    "def mainFunc():\n",
    "    print(\"Main program continues\")\n",
    "    test(True)\n",
    "\n",
    "mainFunc()\n"
   ]
  },
  {
   "cell_type": "code",
   "execution_count": 13,
   "metadata": {},
   "outputs": [
    {
     "data": {
      "text/plain": [
       "<Task pending name='Task-17' coro=<my_coroutine_2() running at C:\\Users\\Ryder\\AppData\\Local\\Temp\\ipykernel_12184\\2205998206.py:2>>"
      ]
     },
     "execution_count": 13,
     "metadata": {},
     "output_type": "execute_result"
    },
    {
     "name": "stdout",
     "output_type": "stream",
     "text": [
      "here\n"
     ]
    }
   ],
   "source": [
    "\n",
    "# Define an asynchronous function\n",
    "async def my_coroutine_2():\n",
    "    await asyncio.sleep(2)\n",
    "    print(\"here\")\n",
    "    return \"Hello, World!\"\n",
    "\n",
    "\n",
    "asyncio.create_task(my_coroutine_2())"
   ]
  },
  {
   "cell_type": "code",
   "execution_count": 3,
   "metadata": {},
   "outputs": [
    {
     "data": {
      "text/plain": [
       "<Future finished result=[]>"
      ]
     },
     "execution_count": 3,
     "metadata": {},
     "output_type": "execute_result"
    }
   ],
   "source": [
    "tasks = []\n",
    "asyncio.gather(*tasks)"
   ]
  },
  {
   "cell_type": "code",
   "execution_count": null,
   "metadata": {
    "collapsed": false
   },
   "outputs": [],
   "source": [
    "from src.routers.topup.crypto_deposit import crypto_payment_gateway_config\n",
    "\n",
    "response = requests.get(crypto_payment_gateway_config['BaseURL']+'get_deposit_currencies?app_key='+crypto_payment_gateway_config['AppKey'])"
   ]
  },
  {
   "cell_type": "code",
   "execution_count": 3,
   "metadata": {
    "ExecuteTime": {
     "end_time": "2024-01-18T08:24:31.316497100Z",
     "start_time": "2024-01-18T08:24:31.296814600Z"
    },
    "collapsed": false
   },
   "outputs": [
    {
     "name": "stdout",
     "output_type": "stream",
     "text": [
      "      Name  Age   Department\n",
      "0    Alice   25    Marketing\n",
      "1      Bob   30  Engineering\n",
      "2  Charlie   22        Sales\n"
     ]
    }
   ],
   "source": [
    "import pandas as pd\n",
    "\n",
    "data = ((\"Alice\", 25, \"Marketing\"), (\"Bob\", 30, \"Engineering\"), (\"Charlie\", 22, \"Sales\"))\n",
    "\n",
    "columns = [\"Name\", \"Age\", \"Department\"]\n",
    "\n",
    "df = pd.DataFrame.from_records(data, columns=columns)\n",
    "\n",
    "print(df)"
   ]
  },
  {
   "cell_type": "code",
   "execution_count": 2,
   "metadata": {
    "ExecuteTime": {
     "end_time": "2024-01-23T08:13:44.157095900Z",
     "start_time": "2024-01-23T08:13:44.087898600Z"
    },
    "collapsed": false
   },
   "outputs": [
    {
     "ename": "TypeError",
     "evalue": "unsupported operand type(s) for /: 'NoneType' and 'int'",
     "output_type": "error",
     "traceback": [
      "\u001b[1;31m---------------------------------------------------------------------------\u001b[0m",
      "\u001b[1;31mTypeError\u001b[0m                                 Traceback (most recent call last)",
      "Cell \u001b[1;32mIn[2], line 1\u001b[0m\n\u001b[1;32m----> 1\u001b[0m \u001b[38;5;28mint\u001b[39m(\u001b[38;5;28;43;01mNone\u001b[39;49;00m\u001b[38;5;241;43m/\u001b[39;49m\u001b[38;5;241;43m1000\u001b[39;49m)\n",
      "\u001b[1;31mTypeError\u001b[0m: unsupported operand type(s) for /: 'NoneType' and 'int'"
     ]
    }
   ],
   "source": []
  }
 ],
 "metadata": {
  "kernelspec": {
   "display_name": "Python 3.9.13 ('venv': venv)",
   "language": "python",
   "name": "python3"
  },
  "language_info": {
   "codemirror_mode": {
    "name": "ipython",
    "version": 3
   },
   "file_extension": ".py",
   "mimetype": "text/x-python",
   "name": "python",
   "nbconvert_exporter": "python",
   "pygments_lexer": "ipython3",
   "version": "3.9.13"
  },
  "orig_nbformat": 4,
  "vscode": {
   "interpreter": {
    "hash": "51a1ef93b0bd065cba45b083bca477227e627dae821ea895208f05eddef00ff8"
   }
  }
 },
 "nbformat": 4,
 "nbformat_minor": 2
}
